{
  "nbformat": 4,
  "nbformat_minor": 0,
  "metadata": {
    "colab": {
      "provenance": []
    },
    "kernelspec": {
      "name": "python3",
      "display_name": "Python 3"
    },
    "language_info": {
      "name": "python"
    }
  },
  "cells": [
    {
      "cell_type": "code",
      "execution_count": null,
      "metadata": {
        "id": "cP9JBElVRoJ8"
      },
      "outputs": [],
      "source": [
        "print(\"Hello World\")"
      ]
    },
    {
      "cell_type": "code",
      "source": [
        "print(\"Hello Pyton\")"
      ],
      "metadata": {
        "id": "fD8J9Zz6R7dB"
      },
      "execution_count": null,
      "outputs": []
    },
    {
      "cell_type": "code",
      "source": [
        "print(\"바보\")"
      ],
      "metadata": {
        "id": "WvFaudDyTy7V"
      },
      "execution_count": null,
      "outputs": []
    },
    {
      "cell_type": "code",
      "source": [
        "import pylab as py\n",
        "\n",
        "x_deg = py.arange(-180, 180+1,)\n",
        "x_rad = py.deg2rad(x_deg)\n",
        "y = py.sin(x_rad)\n",
        "\n",
        "py.plot(x_deg, y)\n",
        "py.xlabel('x(deg)')\n",
        "py.ylabel('sin(x)')\n",
        "py.grid(True)\n"
      ],
      "metadata": {
        "id": "PuuZkZIwYtb2"
      },
      "execution_count": null,
      "outputs": []
    },
    {
      "cell_type": "code",
      "source": [],
      "metadata": {
        "id": "alChz7w0vfh7"
      },
      "execution_count": null,
      "outputs": []
    }
  ]
}